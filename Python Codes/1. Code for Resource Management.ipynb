{
 "cells": [
  {
   "cell_type": "code",
   "execution_count": null,
   "metadata": {
    "colab": {
     "base_uri": "https://localhost:8080/"
    },
    "id": "AYKfxrxr9z3G",
    "outputId": "521879bc-3354-4823-81a7-513561b46ea9"
   },
   "outputs": [
    {
     "name": "stdout",
     "output_type": "stream",
     "text": [
      "**************************************************\n",
      "\n",
      "Enter Maximum Number of Beds: 40\n",
      "Enter Maximum Number of Rooms: 20\n",
      "Enter Maximum Number of Patient Monitors: 18\n",
      "Enter Maximum Number of Oxygen Masks: 20\n",
      "Enter Maximum Number of Stretchers: 10\n",
      "\n",
      "**************************************************\n",
      "\n",
      "Solution Status is Optimal \n",
      "\n",
      " 40 for Number of Beds\n",
      " 10 for Number of Rooms\n",
      " 18 for Number of Patient Monitors\n",
      " 20 for Number of Oxygen Masks\n",
      " 10 for Number of Stretchers\n",
      "\n",
      "Maximum Number of Patients: 48\n"
     ]
    }
   ],
   "source": [
    "#Import Necessary Libraries\n",
    "import pulp as lp\n",
    "import numpy as np\n",
    "\n",
    "#Creating a Linear Programming Maximization Problem\n",
    "Problem = lp.LpProblem(\"Hospital\", lp.LpMaximize)\n",
    "\n",
    "#Creating Problem Variables and Setting lowest value as 0 to prevent negative values\n",
    "x_1 = lp.LpVariable(\"x_1\", lowBound = 0)   #Number of Beds in hospital\n",
    "x_2 = lp.LpVariable(\"x_2\", lowBound = 0)   #Number of Rooms in hospital\n",
    "x_3 = lp.LpVariable(\"x_3\", lowBound = 0)   #Number of Patient Monitors in hospital\n",
    "x_4 = lp.LpVariable(\"x_4\", lowBound = 0)   #Number of Oxygen Masks in hospital\n",
    "x_5 = lp.LpVariable(\"x_5\", lowBound = 0)   #Number of Stretchers in hospital\n",
    "x_6 = lp.LpVariable(\"x_6\", lowBound = 0)   #Number of Covid Patients in hospital\n",
    "\n",
    "print(\"**************************************************\\n\")\n",
    "\n",
    "#Getting Inputs for each Variables of the Problem\n",
    "NumOfBeds = int(input(\"Enter Maximum Number of Beds: \"))\n",
    "NumOfRooms = int(input(\"Enter Maximum Number of Rooms: \"))\n",
    "NumOfPatientMonitors = int(input(\"Enter Maximum Number of Patient Monitors: \"))\n",
    "NumOfOxygenMasks = int(input(\"Enter Maximum Number of Oxygen Masks: \"))\n",
    "NumOfStretchers = int(input(\"Enter Maximum Number of Stretchers: \"))\n",
    "\n",
    "#Creating Objective Function and Adding it to the model\n",
    "Problem += 2*x_6\n",
    "\n",
    "#Creating Constraints and Adding them to the model\n",
    "\n",
    "#Constraints for Number of Beds\n",
    "Problem += x_1 <= NumOfBeds\n",
    "Problem += x_6 - x_1 <= 0\n",
    "\n",
    "#Constraints for Number of Rooms\n",
    "Problem += x_2 <= NumOfRooms\n",
    "\n",
    "#Constraint for Number of Beds and Number of Rooms at the same time\n",
    "Problem += x_1 - 4 * x_2 == 0\n",
    "\n",
    "#Constraints for Number of Patient Monitors\n",
    "Problem += x_3 <= NumOfPatientMonitors\n",
    "Problem += x_6 - 2 * x_3 <= 0\n",
    "\n",
    "#Constraints for Number of Oxygen Masks\n",
    "Problem += x_4 <= NumOfOxygenMasks\n",
    "Problem += x_6 - 2.1 * x_4 <= 0\n",
    "\n",
    "#Constraints for Number of Stretchers\n",
    "Problem += x_5 <= NumOfStretchers\n",
    "Problem += x_6 - 2.4 * x_5 <= 0\n",
    "\n",
    "#Solving the Problem and Setting its Status\n",
    "status = Problem.solve()\n",
    "print(\"\\n**************************************************\\n\")\n",
    "\n",
    "#Displaying the Problem Status\n",
    "print(\"Solution Status is\", lp.LpStatus[status], \"\\n\")\n",
    "\n",
    "#Printing Optimal Values of the Solution for each Variable\n",
    "print(\"\", int(np.ceil(lp.value(x_1))), \"for Number of Beds\\n\", \n",
    "      int(np.ceil(lp.value(x_2))), \"for Number of Rooms\\n\", \n",
    "      int(np.ceil(lp.value(x_3))), \"for Number of Patient Monitors\\n\",\n",
    "      int(np.ceil(lp.value(x_4))), \"for Number of Oxygen Masks\\n\",\n",
    "      int(np.ceil(lp.value(x_5))), \"for Number of Stretchers\\n\")\n",
    "\n",
    "#Printing Maximized value of Objective function which means Number of Covid Patients\n",
    "print(\"Maximum Number of Patients:\", int(np.ceil(lp.value(Problem.objective))))"
   ]
  },
  {
   "cell_type": "code",
   "execution_count": null,
   "metadata": {
    "id": "6eXbPUsNnPf6"
   },
   "outputs": [],
   "source": []
  }
 ],
 "metadata": {
  "colab": {
   "collapsed_sections": [],
   "name": "1. Code for Resource Management.ipynb",
   "provenance": []
  },
  "kernelspec": {
   "display_name": "Python 3",
   "language": "python",
   "name": "python3"
  },
  "language_info": {
   "codemirror_mode": {
    "name": "ipython",
    "version": 3
   },
   "file_extension": ".py",
   "mimetype": "text/x-python",
   "name": "python",
   "nbconvert_exporter": "python",
   "pygments_lexer": "ipython3",
   "version": "3.8.3"
  }
 },
 "nbformat": 4,
 "nbformat_minor": 1
}
